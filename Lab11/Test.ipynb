{
 "cells": [
  {
   "cell_type": "code",
   "execution_count": 1,
   "metadata": {},
   "outputs": [],
   "source": [
    "# target parameters of f(x) = m*x + b\n",
    "m = 2 # slope\n",
    "b = 1 # intersect"
   ]
  },
  {
   "cell_type": "code",
   "execution_count": 2,
   "metadata": {},
   "outputs": [],
   "source": [
    "import numpy as np\n",
    "\n",
    "# generate training inputs\n",
    "np.random.seed(0)\n",
    "x_train = np.random.uniform(-1, 1, 500)\n",
    "x_valid = np.random.uniform(-1, 1, 50)\n",
    "x_valid.sort()\n",
    "y_target = m * x_valid + b # ideal (target) linear function\n",
    "\n",
    "sigma = 0.0 # noise standard deviation, for the moment it is absent\n",
    "y_train = np.random.normal(m * x_train + b, sigma) # actual measures from which we want to guess regression parameters\n",
    "y_valid = np.random.normal(m * x_valid + b, sigma)"
   ]
  },
  {
   "cell_type": "code",
   "execution_count": 3,
   "metadata": {},
   "outputs": [],
   "source": [
    "# compose the NN model\n",
    "import tensorflow as tf\n",
    "from tensorflow import keras\n",
    "\n",
    "from tensorflow.keras.models import Sequential\n",
    "from tensorflow.keras.layers import Dense, Activation\n",
    "from tensorflow.keras import backend as K\n",
    "from tensorflow.keras.utils import get_custom_objects\n",
    "\n",
    "model = tf.keras.Sequential()\n",
    "model.add(Dense(1, input_shape=(1,)))\n",
    "\n",
    "# compile the model choosing optimizer, loss and metrics objects\n",
    "model.compile(optimizer='sgd', loss='mse', metrics=['mse'])"
   ]
  },
  {
   "cell_type": "code",
   "execution_count": 4,
   "metadata": {},
   "outputs": [
    {
     "name": "stdout",
     "output_type": "stream",
     "text": [
      "Model: \"sequential\"\n",
      "_________________________________________________________________\n",
      " Layer (type)                Output Shape              Param #   \n",
      "=================================================================\n",
      " dense (Dense)               (None, 1)                 2         \n",
      "                                                                 \n",
      "=================================================================\n",
      "Total params: 2\n",
      "Trainable params: 2\n",
      "Non-trainable params: 0\n",
      "_________________________________________________________________\n"
     ]
    }
   ],
   "source": [
    "# get a summary of our composed model\n",
    "model.summary()"
   ]
  },
  {
   "cell_type": "code",
   "execution_count": 5,
   "metadata": {},
   "outputs": [
    {
     "name": "stdout",
     "output_type": "stream",
     "text": [
      "Epoch 1/30\n",
      "16/16 [==============================] - 1s 17ms/step - loss: 1.4244 - mse: 1.4244 - val_loss: 0.9926 - val_mse: 0.9926\n",
      "Epoch 2/30\n",
      "16/16 [==============================] - 0s 5ms/step - loss: 0.9379 - mse: 0.9379 - val_loss: 0.6656 - val_mse: 0.6656\n",
      "Epoch 3/30\n",
      "16/16 [==============================] - 0s 5ms/step - loss: 0.6430 - mse: 0.6430 - val_loss: 0.4696 - val_mse: 0.4696\n",
      "Epoch 4/30\n",
      "16/16 [==============================] - 0s 5ms/step - loss: 0.4610 - mse: 0.4610 - val_loss: 0.3446 - val_mse: 0.3446\n",
      "Epoch 5/30\n",
      "16/16 [==============================] - 0s 6ms/step - loss: 0.3415 - mse: 0.3415 - val_loss: 0.2598 - val_mse: 0.2598\n",
      "Epoch 6/30\n",
      "16/16 [==============================] - 0s 6ms/step - loss: 0.2586 - mse: 0.2586 - val_loss: 0.2009 - val_mse: 0.2009\n",
      "Epoch 7/30\n",
      "16/16 [==============================] - 0s 6ms/step - loss: 0.2001 - mse: 0.2001 - val_loss: 0.1577 - val_mse: 0.1577\n",
      "Epoch 8/30\n",
      "16/16 [==============================] - 0s 5ms/step - loss: 0.1568 - mse: 0.1568 - val_loss: 0.1250 - val_mse: 0.1250\n",
      "Epoch 9/30\n",
      "16/16 [==============================] - 0s 6ms/step - loss: 0.1241 - mse: 0.1241 - val_loss: 0.0997 - val_mse: 0.0997\n",
      "Epoch 10/30\n",
      "16/16 [==============================] - 0s 8ms/step - loss: 0.0987 - mse: 0.0987 - val_loss: 0.0798 - val_mse: 0.0798\n",
      "Epoch 11/30\n",
      "16/16 [==============================] - 0s 6ms/step - loss: 0.0787 - mse: 0.0787 - val_loss: 0.0640 - val_mse: 0.0640\n",
      "Epoch 12/30\n",
      "16/16 [==============================] - 0s 6ms/step - loss: 0.0630 - mse: 0.0630 - val_loss: 0.0514 - val_mse: 0.0514\n",
      "Epoch 13/30\n",
      "16/16 [==============================] - 0s 5ms/step - loss: 0.0505 - mse: 0.0505 - val_loss: 0.0413 - val_mse: 0.0413\n",
      "Epoch 14/30\n",
      "16/16 [==============================] - 0s 9ms/step - loss: 0.0405 - mse: 0.0405 - val_loss: 0.0332 - val_mse: 0.0332\n",
      "Epoch 15/30\n",
      "16/16 [==============================] - 0s 9ms/step - loss: 0.0324 - mse: 0.0324 - val_loss: 0.0267 - val_mse: 0.0267\n",
      "Epoch 16/30\n",
      "16/16 [==============================] - 0s 8ms/step - loss: 0.0260 - mse: 0.0260 - val_loss: 0.0215 - val_mse: 0.0215\n",
      "Epoch 17/30\n",
      "16/16 [==============================] - 0s 11ms/step - loss: 0.0209 - mse: 0.0209 - val_loss: 0.0173 - val_mse: 0.0173\n",
      "Epoch 18/30\n",
      "16/16 [==============================] - 0s 9ms/step - loss: 0.0168 - mse: 0.0168 - val_loss: 0.0139 - val_mse: 0.0139\n",
      "Epoch 19/30\n",
      "16/16 [==============================] - 0s 9ms/step - loss: 0.0135 - mse: 0.0135 - val_loss: 0.0112 - val_mse: 0.0112\n",
      "Epoch 20/30\n",
      "16/16 [==============================] - 0s 8ms/step - loss: 0.0109 - mse: 0.0109 - val_loss: 0.0090 - val_mse: 0.0090\n",
      "Epoch 21/30\n",
      "16/16 [==============================] - 0s 9ms/step - loss: 0.0087 - mse: 0.0087 - val_loss: 0.0072 - val_mse: 0.0072\n",
      "Epoch 22/30\n",
      "16/16 [==============================] - 0s 9ms/step - loss: 0.0070 - mse: 0.0070 - val_loss: 0.0058 - val_mse: 0.0058\n",
      "Epoch 23/30\n",
      "16/16 [==============================] - 0s 7ms/step - loss: 0.0057 - mse: 0.0057 - val_loss: 0.0047 - val_mse: 0.0047\n",
      "Epoch 24/30\n",
      "16/16 [==============================] - 0s 8ms/step - loss: 0.0046 - mse: 0.0046 - val_loss: 0.0038 - val_mse: 0.0038\n",
      "Epoch 25/30\n",
      "16/16 [==============================] - 0s 8ms/step - loss: 0.0037 - mse: 0.0037 - val_loss: 0.0030 - val_mse: 0.0030\n",
      "Epoch 26/30\n",
      "16/16 [==============================] - 0s 7ms/step - loss: 0.0029 - mse: 0.0029 - val_loss: 0.0024 - val_mse: 0.0024\n",
      "Epoch 27/30\n",
      "16/16 [==============================] - 0s 7ms/step - loss: 0.0024 - mse: 0.0024 - val_loss: 0.0020 - val_mse: 0.0020\n",
      "Epoch 28/30\n",
      "16/16 [==============================] - 0s 5ms/step - loss: 0.0019 - mse: 0.0019 - val_loss: 0.0016 - val_mse: 0.0016\n",
      "Epoch 29/30\n",
      "16/16 [==============================] - 0s 5ms/step - loss: 0.0015 - mse: 0.0015 - val_loss: 0.0013 - val_mse: 0.0013\n",
      "Epoch 30/30\n",
      "16/16 [==============================] - 0s 5ms/step - loss: 0.0012 - mse: 0.0012 - val_loss: 0.0010 - val_mse: 0.0010\n"
     ]
    }
   ],
   "source": [
    "# fit the model using training dataset\n",
    "# over 10 epochs of 32 batch size each\n",
    "# report training progress against validation data\n",
    "history = model.fit(x=x_train, y=y_train, \n",
    "          batch_size=32, epochs=30,\n",
    "          shuffle=True, # a good idea is to shuffle input before at each epoch\n",
    "          validation_data=(x_valid, y_valid))"
   ]
  }
 ],
 "metadata": {
  "kernelspec": {
   "display_name": "Python 3",
   "language": "python",
   "name": "python3"
  },
  "language_info": {
   "codemirror_mode": {
    "name": "ipython",
    "version": 3
   },
   "file_extension": ".py",
   "mimetype": "text/x-python",
   "name": "python",
   "nbconvert_exporter": "python",
   "pygments_lexer": "ipython3",
   "version": "3.9.2"
  },
  "orig_nbformat": 4
 },
 "nbformat": 4,
 "nbformat_minor": 2
}
