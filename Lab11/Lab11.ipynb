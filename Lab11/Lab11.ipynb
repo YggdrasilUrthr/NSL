{
 "cells": [
  {
   "cell_type": "code",
   "execution_count": 82,
   "id": "engaging-render",
   "metadata": {},
   "outputs": [
    {
     "data": {
      "image/png": "[encoded data removed]",
      "text/plain": [
       "<Figure size 432x288 with 1 Axes>"
      ]
     },
     "metadata": {
      "needs_background": "light"
     },
     "output_type": "display_data"
    }
   ],
   "source": [
    "import numpy as np\n",
    "import matplotlib.pyplot as plt\n",
    "\n",
    "a = 3\n",
    "b = -2\n",
    "c = -3 \n",
    "d = 4\n",
    "\n",
    "def f(x):\n",
    "\n",
    "    return a * (x ** 3) + b * (x ** 2) + c * (x) + d\n",
    "\n",
    "np.random.seed(0)\n",
    "x_train = np.random.uniform(-1, 1, 500)\n",
    "x_valid = np.random.uniform(-1, 1, 50)\n",
    "x_valid.sort()\n",
    "\n",
    "y_target = f(x_valid)\n",
    "\n",
    "sigma = 0.0\n",
    "y_train = np.random.normal(f(x_train), sigma)\n",
    "y_valid = np.random.normal(f(x_valid), sigma)\n",
    "\n",
    "plt.plot(x_valid, y_target, label='target')\n",
    "plt.scatter(x_valid, y_valid, color='r', label='validation data')\n",
    "plt.legend()\n",
    "plt.grid(True)\n",
    "plt.show()"
   ]
  },
  {
   "cell_type": "code",
   "execution_count": 83,
   "id": "2cc64134",
   "metadata": {},
   "outputs": [],
   "source": [
    "import tensorflow as tf\n",
    "from tensorflow import keras\n",
    "\n",
    "from keras.models import Sequential\n",
    "from keras.layers import Dense, Activation\n",
    "from keras import backend as K\n",
    "from keras.utils import get_custom_objects\n",
    "\n",
    "model = tf.keras.Sequential()\n",
    "model.add(Dense(10, input_shape=(1,), activation='relu'))\n",
    "model.add(Dense(50))\n",
    "model.add(Dense(30))\n",
    "model.add(Dense(10))\n",
    "model.add(Dense(1))\n",
    "\n",
    "model.compile(optimizer='sgd', loss='mse', metrics=['mse'])"
   ]
  },
  {
   "cell_type": "code",
   "execution_count": 84,
   "id": "10bc204a",
   "metadata": {},
   "outputs": [
    {
     "name": "stdout",
     "output_type": "stream",
     "text": [
      "Model: \"sequential_16\"\n",
      "_________________________________________________________________\n",
      " Layer (type)                Output Shape              Param #   \n",
      "=================================================================\n",
      " dense_37 (Dense)            (None, 10)                20        \n",
      "                                                                 \n",
      " dense_38 (Dense)            (None, 50)                550       \n",
      "                                                                 \n",
      " dense_39 (Dense)            (None, 30)                1530      \n",
      "                                                                 \n",
      " dense_40 (Dense)            (None, 10)                310       \n",
      "                                                                 \n",
      " dense_41 (Dense)            (None, 1)                 11        \n",
      "                                                                 \n",
      "=================================================================\n",
      "Total params: 2,421\n",
      "Trainable params: 2,421\n",
      "Non-trainable params: 0\n",
      "_________________________________________________________________\n"
     ]
    }
   ],
   "source": [
    "model.summary()"
   ]
  },
  {
   "cell_type": "code",
   "execution_count": 85,
   "id": "66282c6e",
   "metadata": {},
   "outputs": [
    {
     "name": "stdout",
     "output_type": "stream",
     "text": [
      "Epoch 1/100\n",
      "16/16 [==============================] - 1s 22ms/step - loss: 2.4503 - mse: 2.4503 - val_loss: 0.8845 - val_mse: 0.8845\n",
      "Epoch 2/100\n",
      "16/16 [==============================] - 0s 8ms/step - loss: 0.6318 - mse: 0.6318 - val_loss: 0.7498 - val_mse: 0.7498\n",
      "Epoch 3/100\n",
      "16/16 [==============================] - 0s 9ms/step - loss: 0.4866 - mse: 0.4866 - val_loss: 0.5993 - val_mse: 0.5993\n",
      "Epoch 4/100\n",
      "16/16 [==============================] - 0s 8ms/step - loss: 0.3784 - mse: 0.3784 - val_loss: 0.5569 - val_mse: 0.5569\n",
      "Epoch 5/100\n",
      "16/16 [==============================] - 0s 8ms/step - loss: 0.2777 - mse: 0.2777 - val_loss: 0.3664 - val_mse: 0.3664\n",
      "Epoch 6/100\n",
      "16/16 [==============================] - 0s 8ms/step - loss: 0.1991 - mse: 0.1991 - val_loss: 0.2860 - val_mse: 0.2860\n",
      "Epoch 7/100\n",
      "16/16 [==============================] - 0s 8ms/step - loss: 0.1570 - mse: 0.1570 - val_loss: 0.2879 - val_mse: 0.2879\n",
      "Epoch 8/100\n",
      "16/16 [==============================] - 0s 10ms/step - loss: 0.1228 - mse: 0.1228 - val_loss: 0.1785 - val_mse: 0.1785\n",
      "Epoch 9/100\n",
      "16/16 [==============================] - 0s 9ms/step - loss: 0.1046 - mse: 0.1046 - val_loss: 0.2458 - val_mse: 0.2458\n",
      "Epoch 10/100\n",
      "16/16 [==============================] - 0s 10ms/step - loss: 0.0974 - mse: 0.0974 - val_loss: 0.1400 - val_mse: 0.1400\n",
      "Epoch 11/100\n",
      "16/16 [==============================] - 0s 8ms/step - loss: 0.0738 - mse: 0.0738 - val_loss: 0.0982 - val_mse: 0.0982\n",
      "Epoch 12/100\n",
      "16/16 [==============================] - 0s 8ms/step - loss: 0.0616 - mse: 0.0616 - val_loss: 0.0840 - val_mse: 0.0840\n",
      "Epoch 13/100\n",
      "16/16 [==============================] - 0s 8ms/step - loss: 0.0562 - mse: 0.0562 - val_loss: 0.1084 - val_mse: 0.1084\n",
      "Epoch 14/100\n",
      "16/16 [==============================] - 0s 8ms/step - loss: 0.0538 - mse: 0.0538 - val_loss: 0.0590 - val_mse: 0.0590\n",
      "Epoch 15/100\n",
      "16/16 [==============================] - 0s 8ms/step - loss: 0.0431 - mse: 0.0431 - val_loss: 0.0706 - val_mse: 0.0706\n",
      "Epoch 16/100\n",
      "16/16 [==============================] - 0s 8ms/step - loss: 0.0372 - mse: 0.0372 - val_loss: 0.0427 - val_mse: 0.0427\n",
      "Epoch 17/100\n",
      "16/16 [==============================] - 0s 10ms/step - loss: 0.0346 - mse: 0.0346 - val_loss: 0.0368 - val_mse: 0.0368\n",
      "Epoch 18/100\n",
      "16/16 [==============================] - 0s 8ms/step - loss: 0.0307 - mse: 0.0307 - val_loss: 0.0360 - val_mse: 0.0360\n",
      "Epoch 19/100\n",
      "16/16 [==============================] - 0s 8ms/step - loss: 0.0269 - mse: 0.0269 - val_loss: 0.0370 - val_mse: 0.0370\n",
      "Epoch 20/100\n",
      "16/16 [==============================] - 0s 10ms/step - loss: 0.0290 - mse: 0.0290 - val_loss: 0.0322 - val_mse: 0.0322\n",
      "Epoch 21/100\n",
      "16/16 [==============================] - 0s 7ms/step - loss: 0.0265 - mse: 0.0265 - val_loss: 0.0324 - val_mse: 0.0324\n",
      "Epoch 22/100\n",
      "16/16 [==============================] - 0s 7ms/step - loss: 0.0226 - mse: 0.0226 - val_loss: 0.0260 - val_mse: 0.0260\n",
      "Epoch 23/100\n",
      "16/16 [==============================] - 0s 8ms/step - loss: 0.0216 - mse: 0.0216 - val_loss: 0.0224 - val_mse: 0.0224\n",
      "Epoch 24/100\n",
      "16/16 [==============================] - 0s 7ms/step - loss: 0.0212 - mse: 0.0212 - val_loss: 0.0275 - val_mse: 0.0275\n",
      "Epoch 25/100\n",
      "16/16 [==============================] - 0s 10ms/step - loss: 0.0222 - mse: 0.0222 - val_loss: 0.0233 - val_mse: 0.0233\n",
      "Epoch 26/100\n",
      "16/16 [==============================] - 0s 10ms/step - loss: 0.0202 - mse: 0.0202 - val_loss: 0.0259 - val_mse: 0.0259\n",
      "Epoch 27/100\n",
      "16/16 [==============================] - 0s 8ms/step - loss: 0.0212 - mse: 0.0212 - val_loss: 0.0247 - val_mse: 0.0247\n",
      "Epoch 28/100\n",
      "16/16 [==============================] - 0s 7ms/step - loss: 0.0173 - mse: 0.0173 - val_loss: 0.0234 - val_mse: 0.0234\n",
      "Epoch 29/100\n",
      "16/16 [==============================] - 0s 8ms/step - loss: 0.0202 - mse: 0.0202 - val_loss: 0.0172 - val_mse: 0.0172\n",
      "Epoch 30/100\n",
      "16/16 [==============================] - 0s 10ms/step - loss: 0.0181 - mse: 0.0181 - val_loss: 0.0400 - val_mse: 0.0400\n",
      "Epoch 31/100\n",
      "16/16 [==============================] - 0s 7ms/step - loss: 0.0164 - mse: 0.0164 - val_loss: 0.0181 - val_mse: 0.0181\n",
      "Epoch 32/100\n",
      "16/16 [==============================] - 0s 8ms/step - loss: 0.0150 - mse: 0.0150 - val_loss: 0.0191 - val_mse: 0.0191\n",
      "Epoch 33/100\n",
      "16/16 [==============================] - 0s 9ms/step - loss: 0.0153 - mse: 0.0153 - val_loss: 0.0149 - val_mse: 0.0149\n",
      "Epoch 34/100\n",
      "16/16 [==============================] - 0s 6ms/step - loss: 0.0134 - mse: 0.0134 - val_loss: 0.0135 - val_mse: 0.0135\n",
      "Epoch 35/100\n",
      "16/16 [==============================] - 0s 6ms/step - loss: 0.0144 - mse: 0.0144 - val_loss: 0.0147 - val_mse: 0.0147\n",
      "Epoch 36/100\n",
      "16/16 [==============================] - 0s 8ms/step - loss: 0.0135 - mse: 0.0135 - val_loss: 0.0140 - val_mse: 0.0140\n",
      "Epoch 37/100\n",
      "16/16 [==============================] - 0s 12ms/step - loss: 0.0123 - mse: 0.0123 - val_loss: 0.0169 - val_mse: 0.0169\n",
      "Epoch 38/100\n",
      "16/16 [==============================] - 0s 10ms/step - loss: 0.0134 - mse: 0.0134 - val_loss: 0.0202 - val_mse: 0.0202\n",
      "Epoch 39/100\n",
      "16/16 [==============================] - 0s 8ms/step - loss: 0.0137 - mse: 0.0137 - val_loss: 0.0165 - val_mse: 0.0165\n",
      "Epoch 40/100\n",
      "16/16 [==============================] - 0s 9ms/step - loss: 0.0165 - mse: 0.0165 - val_loss: 0.0129 - val_mse: 0.0129\n",
      "Epoch 41/100\n",
      "16/16 [==============================] - 0s 10ms/step - loss: 0.0126 - mse: 0.0126 - val_loss: 0.0125 - val_mse: 0.0125\n",
      "Epoch 42/100\n",
      "16/16 [==============================] - 0s 7ms/step - loss: 0.0116 - mse: 0.0116 - val_loss: 0.0112 - val_mse: 0.0112\n",
      "Epoch 43/100\n",
      "16/16 [==============================] - 0s 8ms/step - loss: 0.0118 - mse: 0.0118 - val_loss: 0.0118 - val_mse: 0.0118\n",
      "Epoch 44/100\n",
      "16/16 [==============================] - 0s 7ms/step - loss: 0.0114 - mse: 0.0114 - val_loss: 0.0170 - val_mse: 0.0170\n",
      "Epoch 45/100\n",
      "16/16 [==============================] - 0s 10ms/step - loss: 0.0115 - mse: 0.0115 - val_loss: 0.0138 - val_mse: 0.0138\n",
      "Epoch 46/100\n",
      "16/16 [==============================] - 0s 12ms/step - loss: 0.0115 - mse: 0.0115 - val_loss: 0.0094 - val_mse: 0.0094\n",
      "Epoch 47/100\n",
      "16/16 [==============================] - 0s 7ms/step - loss: 0.0111 - mse: 0.0111 - val_loss: 0.0108 - val_mse: 0.0108\n",
      "Epoch 48/100\n",
      "16/16 [==============================] - 0s 9ms/step - loss: 0.0117 - mse: 0.0117 - val_loss: 0.0112 - val_mse: 0.0112\n",
      "Epoch 49/100\n",
      "16/16 [==============================] - 0s 12ms/step - loss: 0.0098 - mse: 0.0098 - val_loss: 0.0104 - val_mse: 0.0104\n",
      "Epoch 50/100\n",
      "16/16 [==============================] - 0s 9ms/step - loss: 0.0105 - mse: 0.0105 - val_loss: 0.0106 - val_mse: 0.0106\n",
      "Epoch 51/100\n",
      "16/16 [==============================] - 0s 7ms/step - loss: 0.0105 - mse: 0.0105 - val_loss: 0.0092 - val_mse: 0.0092\n",
      "Epoch 52/100\n",
      "16/16 [==============================] - 0s 8ms/step - loss: 0.0116 - mse: 0.0116 - val_loss: 0.0156 - val_mse: 0.0156\n",
      "Epoch 53/100\n",
      "16/16 [==============================] - 0s 8ms/step - loss: 0.0134 - mse: 0.0134 - val_loss: 0.0263 - val_mse: 0.0263\n",
      "Epoch 54/100\n",
      "16/16 [==============================] - 0s 8ms/step - loss: 0.0108 - mse: 0.0108 - val_loss: 0.0131 - val_mse: 0.0131\n",
      "Epoch 55/100\n",
      "16/16 [==============================] - 0s 7ms/step - loss: 0.0107 - mse: 0.0107 - val_loss: 0.0117 - val_mse: 0.0117\n",
      "Epoch 56/100\n",
      "16/16 [==============================] - 0s 8ms/step - loss: 0.0099 - mse: 0.0099 - val_loss: 0.0118 - val_mse: 0.0118\n",
      "Epoch 57/100\n",
      "16/16 [==============================] - 0s 8ms/step - loss: 0.0113 - mse: 0.0113 - val_loss: 0.0085 - val_mse: 0.0085\n",
      "Epoch 58/100\n",
      "16/16 [==============================] - 0s 9ms/step - loss: 0.0097 - mse: 0.0097 - val_loss: 0.0112 - val_mse: 0.0112\n",
      "Epoch 59/100\n",
      "16/16 [==============================] - 0s 6ms/step - loss: 0.0089 - mse: 0.0089 - val_loss: 0.0103 - val_mse: 0.0103\n",
      "Epoch 60/100\n",
      "16/16 [==============================] - 0s 8ms/step - loss: 0.0090 - mse: 0.0090 - val_loss: 0.0075 - val_mse: 0.0075\n",
      "Epoch 61/100\n",
      "16/16 [==============================] - 0s 11ms/step - loss: 0.0091 - mse: 0.0091 - val_loss: 0.0080 - val_mse: 0.0080\n",
      "Epoch 62/100\n",
      "16/16 [==============================] - 0s 8ms/step - loss: 0.0082 - mse: 0.0082 - val_loss: 0.0102 - val_mse: 0.0102\n",
      "Epoch 63/100\n",
      "16/16 [==============================] - 0s 10ms/step - loss: 0.0112 - mse: 0.0112 - val_loss: 0.0081 - val_mse: 0.0081\n",
      "Epoch 64/100\n",
      "16/16 [==============================] - 0s 9ms/step - loss: 0.0096 - mse: 0.0096 - val_loss: 0.0072 - val_mse: 0.0072\n",
      "Epoch 65/100\n",
      "16/16 [==============================] - 0s 11ms/step - loss: 0.0101 - mse: 0.0101 - val_loss: 0.0108 - val_mse: 0.0108\n",
      "Epoch 66/100\n",
      "16/16 [==============================] - 0s 8ms/step - loss: 0.0096 - mse: 0.0096 - val_loss: 0.0083 - val_mse: 0.0083\n",
      "Epoch 67/100\n",
      "16/16 [==============================] - 0s 9ms/step - loss: 0.0127 - mse: 0.0127 - val_loss: 0.0067 - val_mse: 0.0067\n",
      "Epoch 68/100\n",
      "16/16 [==============================] - 0s 11ms/step - loss: 0.0104 - mse: 0.0104 - val_loss: 0.0069 - val_mse: 0.0069\n",
      "Epoch 69/100\n",
      "16/16 [==============================] - 0s 8ms/step - loss: 0.0085 - mse: 0.0085 - val_loss: 0.0122 - val_mse: 0.0122\n",
      "Epoch 70/100\n",
      "16/16 [==============================] - 0s 7ms/step - loss: 0.0086 - mse: 0.0086 - val_loss: 0.0098 - val_mse: 0.0098\n",
      "Epoch 71/100\n",
      "16/16 [==============================] - 0s 10ms/step - loss: 0.0090 - mse: 0.0090 - val_loss: 0.0104 - val_mse: 0.0104\n",
      "Epoch 72/100\n",
      "16/16 [==============================] - 0s 10ms/step - loss: 0.0092 - mse: 0.0092 - val_loss: 0.0086 - val_mse: 0.0086\n",
      "Epoch 73/100\n",
      "16/16 [==============================] - 0s 10ms/step - loss: 0.0079 - mse: 0.0079 - val_loss: 0.0075 - val_mse: 0.0075\n",
      "Epoch 74/100\n",
      "16/16 [==============================] - 0s 8ms/step - loss: 0.0075 - mse: 0.0075 - val_loss: 0.0100 - val_mse: 0.0100\n",
      "Epoch 75/100\n",
      "16/16 [==============================] - 0s 8ms/step - loss: 0.0125 - mse: 0.0125 - val_loss: 0.0101 - val_mse: 0.0101\n",
      "Epoch 76/100\n",
      "16/16 [==============================] - 0s 9ms/step - loss: 0.0083 - mse: 0.0083 - val_loss: 0.0056 - val_mse: 0.0056\n",
      "Epoch 77/100\n",
      "16/16 [==============================] - 0s 12ms/step - loss: 0.0077 - mse: 0.0077 - val_loss: 0.0113 - val_mse: 0.0113\n",
      "Epoch 78/100\n",
      "16/16 [==============================] - 0s 7ms/step - loss: 0.0076 - mse: 0.0076 - val_loss: 0.0060 - val_mse: 0.0060\n",
      "Epoch 79/100\n",
      "16/16 [==============================] - 0s 8ms/step - loss: 0.0100 - mse: 0.0100 - val_loss: 0.0062 - val_mse: 0.0062\n",
      "Epoch 80/100\n",
      "16/16 [==============================] - 0s 8ms/step - loss: 0.0094 - mse: 0.0094 - val_loss: 0.0139 - val_mse: 0.0139\n",
      "Epoch 81/100\n",
      "16/16 [==============================] - 0s 9ms/step - loss: 0.0072 - mse: 0.0072 - val_loss: 0.0091 - val_mse: 0.0091\n",
      "Epoch 82/100\n",
      "16/16 [==============================] - 0s 11ms/step - loss: 0.0096 - mse: 0.0096 - val_loss: 0.0054 - val_mse: 0.0054\n",
      "Epoch 83/100\n",
      "16/16 [==============================] - 0s 10ms/step - loss: 0.0073 - mse: 0.0073 - val_loss: 0.0051 - val_mse: 0.0051\n",
      "Epoch 84/100\n",
      "16/16 [==============================] - 0s 9ms/step - loss: 0.0090 - mse: 0.0090 - val_loss: 0.0056 - val_mse: 0.0056\n",
      "Epoch 85/100\n",
      "16/16 [==============================] - 0s 8ms/step - loss: 0.0081 - mse: 0.0081 - val_loss: 0.0058 - val_mse: 0.0058\n",
      "Epoch 86/100\n",
      "16/16 [==============================] - 0s 10ms/step - loss: 0.0088 - mse: 0.0088 - val_loss: 0.0059 - val_mse: 0.0059\n",
      "Epoch 87/100\n",
      "16/16 [==============================] - 0s 11ms/step - loss: 0.0080 - mse: 0.0080 - val_loss: 0.0063 - val_mse: 0.0063\n",
      "Epoch 88/100\n",
      "16/16 [==============================] - 0s 7ms/step - loss: 0.0070 - mse: 0.0070 - val_loss: 0.0053 - val_mse: 0.0053\n",
      "Epoch 89/100\n",
      "16/16 [==============================] - 0s 9ms/step - loss: 0.0065 - mse: 0.0065 - val_loss: 0.0052 - val_mse: 0.0052\n",
      "Epoch 90/100\n",
      "16/16 [==============================] - 0s 7ms/step - loss: 0.0086 - mse: 0.0086 - val_loss: 0.0078 - val_mse: 0.0078\n",
      "Epoch 91/100\n",
      "16/16 [==============================] - 0s 7ms/step - loss: 0.0070 - mse: 0.0070 - val_loss: 0.0116 - val_mse: 0.0116\n",
      "Epoch 92/100\n",
      "16/16 [==============================] - 0s 8ms/step - loss: 0.0063 - mse: 0.0063 - val_loss: 0.0072 - val_mse: 0.0072\n",
      "Epoch 93/100\n",
      "16/16 [==============================] - 0s 9ms/step - loss: 0.0069 - mse: 0.0069 - val_loss: 0.0049 - val_mse: 0.0049\n",
      "Epoch 94/100\n",
      "16/16 [==============================] - 0s 11ms/step - loss: 0.0104 - mse: 0.0104 - val_loss: 0.0069 - val_mse: 0.0069\n",
      "Epoch 95/100\n",
      "16/16 [==============================] - 0s 9ms/step - loss: 0.0068 - mse: 0.0068 - val_loss: 0.0062 - val_mse: 0.0062\n",
      "Epoch 96/100\n",
      "16/16 [==============================] - 0s 10ms/step - loss: 0.0072 - mse: 0.0072 - val_loss: 0.0046 - val_mse: 0.0046\n",
      "Epoch 97/100\n",
      "16/16 [==============================] - 0s 8ms/step - loss: 0.0060 - mse: 0.0060 - val_loss: 0.0048 - val_mse: 0.0048\n",
      "Epoch 98/100\n",
      "16/16 [==============================] - 0s 9ms/step - loss: 0.0065 - mse: 0.0065 - val_loss: 0.0049 - val_mse: 0.0049\n",
      "Epoch 99/100\n",
      "16/16 [==============================] - 0s 6ms/step - loss: 0.0103 - mse: 0.0103 - val_loss: 0.0056 - val_mse: 0.0056\n",
      "Epoch 100/100\n",
      "16/16 [==============================] - 0s 10ms/step - loss: 0.0061 - mse: 0.0061 - val_loss: 0.0044 - val_mse: 0.0044\n"
     ]
    }
   ],
   "source": [
    "history = model.fit(x=x_train, y=y_train, \n",
    "          batch_size=32, epochs=100,\n",
    "          shuffle=True,\n",
    "          validation_data=(x_valid, y_valid))"
   ]
  },
  {
   "cell_type": "code",
   "execution_count": 86,
   "id": "9cdbf7fb",
   "metadata": {},
   "outputs": [
    {
     "name": "stdout",
     "output_type": "stream",
     "text": [
      "2/2 [==============================] - 0s 8ms/step - loss: 0.0044 - mse: 0.0044\n",
      "\n",
      "Test loss: 0.0043760063126683235\n",
      "Test accuracy: 0.004376006778329611\n"
     ]
    }
   ],
   "source": [
    "score = model.evaluate(x_valid, y_valid, batch_size=32, verbose=1)\n",
    "\n",
    "print()\n",
    "print('Test loss:', score[0])\n",
    "print('Test accuracy:', score[1])"
   ]
  },
  {
   "cell_type": "code",
   "execution_count": 87,
   "id": "9ce43e54",
   "metadata": {},
   "outputs": [
    {
     "name": "stdout",
     "output_type": "stream",
     "text": [
      "2/2 [==============================] - 0s 6ms/step - loss: 0.0044 - mse: 0.0044\n",
      "\n",
      "Test loss: 0.0043760063126683235\n",
      "Test accuracy: 0.004376006778329611\n"
     ]
    }
   ],
   "source": [
    "score = model.evaluate(x_valid, y_target, batch_size=32, verbose=1)\n",
    "\n",
    "print()\n",
    "print('Test loss:', score[0])\n",
    "print('Test accuracy:', score[1])"
   ]
  },
  {
   "cell_type": "code",
   "execution_count": 88,
   "id": "4d36cf39",
   "metadata": {},
   "outputs": [
    {
     "name": "stdout",
     "output_type": "stream",
     "text": [
      "4/4 [==============================] - 0s 3ms/step\n"
     ]
    },
    {
     "data": {
      "image/png": "[encoded data removed]",
      "text/plain": [
       "<Figure size 432x288 with 1 Axes>"
      ]
     },
     "metadata": {
      "needs_background": "light"
     },
     "output_type": "display_data"
    }
   ],
   "source": [
    "x_predicted = np.random.uniform(-1, 1, 100)\n",
    "y_predicted = model.predict(x_predicted)\n",
    "plt.scatter(x_predicted, y_predicted,color='r')\n",
    "plt.plot(x_valid, y_target)\n",
    "plt.grid(True)\n",
    "plt.show()"
   ]
  },
  {
   "attachments": {},
   "cell_type": "markdown",
   "id": "451848d3",
   "metadata": {},
   "source": [
    "### Risultati\n",
    "\n",
    "Tanh nel layer intermedio migliori risultati (0.0045 loss vs 0.008 loss)\n",
    "Layer singolo con pù neuroni risultati peggiori di layer multipli con meno neuroni (single 200, multiple 50, 30, 20)\n",
    "\n"
   ]
  }
 ],
 "metadata": {
  "kernelspec": {
   "display_name": "Python 3",
   "language": "python",
   "name": "python3"
  },
  "language_info": {
   "codemirror_mode": {
    "name": "ipython",
    "version": 3
   },
   "file_extension": ".py",
   "mimetype": "text/x-python",
   "name": "python",
   "nbconvert_exporter": "python",
   "pygments_lexer": "ipython3",
   "version": "3.9.2"
  }
 },
 "nbformat": 4,
 "nbformat_minor": 5
}
