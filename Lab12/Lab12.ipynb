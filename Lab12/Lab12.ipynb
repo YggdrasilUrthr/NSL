{
 "cells": [
  {
   "cell_type": "markdown",
   "metadata": {},
   "source": [
    "# Numerical Exercises 12"
   ]
  },
  {
   "cell_type": "markdown",
   "metadata": {},
   "source": [
    "In these exercises I will apply neural networks on a well-known classification problem, which consists in correctly understanding (labelling) an handwritten number. To do this I am going to test two different types of network:\n",
    "\n",
    "- Exercise 12.1: Deep Neural Networks (DNNs), similar to what I used in Exercise 11\n",
    "- Exercise 12.2: Convolutional Neural Networks (CNNs)\n",
    "\n",
    "For both types of network I am going to use the MNIST dataset, a collection of $70000$ handwritten digits saved in a $28\\times 28$ pixel grayscale ($255$ gradations of the gray color) images. Once I obtain a working network, in Exercise 12.3 I will use it to label my very own handwritten digits. \n",
    "\n",
    "As in Lab11, since everything has been written in python, my comments and the obtained results are noted in the same notebook as the code they refer to."
   ]
  }
 ],
 "metadata": {
  "kernelspec": {
   "display_name": "Python 3",
   "language": "python",
   "name": "python3"
  },
  "language_info": {
   "codemirror_mode": {
    "name": "ipython",
    "version": 3
   },
   "file_extension": ".py",
   "mimetype": "text/x-python",
   "name": "python",
   "nbconvert_exporter": "python",
   "pygments_lexer": "ipython3",
   "version": "3.11.2"
  },
  "orig_nbformat": 4
 },
 "nbformat": 4,
 "nbformat_minor": 2
}
